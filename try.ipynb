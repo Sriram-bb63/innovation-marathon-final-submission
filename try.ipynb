{
 "cells": [
  {
   "cell_type": "code",
   "execution_count": 2,
   "metadata": {},
   "outputs": [],
   "source": [
    "import cv2 as cv\n",
    "import re\n",
    "import pytesseract\n",
    "from pytesseract import Output\n",
    "from dateparser import parse\n"
   ]
  },
  {
   "cell_type": "code",
   "execution_count": 3,
   "metadata": {},
   "outputs": [],
   "source": [
    "pytesseract.pytesseract.tesseract_cmd = r'C:\\Program Files\\Tesseract-OCR\\tesseract.exe'"
   ]
  },
  {
   "cell_type": "code",
   "execution_count": 4,
   "metadata": {},
   "outputs": [],
   "source": [
    "img = cv.imread(\"test7.jpg\")\n",
    "d = pytesseract.image_to_data(img, output_type=Output.DICT)\n",
    "lis = d['text']\n",
    "string = \" \".join(lis)"
   ]
  },
  {
   "cell_type": "code",
   "execution_count": 8,
   "metadata": {},
   "outputs": [
    {
     "data": {
      "text/plain": [
       "'    SATHYABAMA    INSTITUTE OF SCIENCE AND TECHNOLOGY  (DEEMED TO BE UNIVERSITY)  Accredited \"A’ Grade by NAAC | 128 Status by UGC | Approved by AICTE                  www.sathyabama.ac.in    STARS  1 O ia  NAAG    STUDENT DEVELOPMENT CELL    AICTE SPICES INNOVATION CLUB  ORGANISES    WORKSHOP ON BUILDING INNOVATIVE IDEAS AND PROJECTS                   REGISTER HERE ee Faculty Co-Ordinators  Resource Person Dr.A.Sivasangari, Assoc. Professor,Dept. of IT  Dr.LSujihelen, Assoc. Professor,Dept. of CSE    DrNJ.K.KISHOR SONTI         Sathyabama IC Convener Student Co-Ordinators  SDC coordinator, Professor, Dept. of ECE MIs Blitensestielh WV ystel 0  i Sathyabama Institute of Science and STA Ae eM Sa ere a  https://forms.gle/kuAdwsMiBDs58WEB7 e N ii : aa - Ms.Gowthami Vinod Katkar, Ill year, CSE  ‘echnology    DATE: March 24, 2023 TIME : 10:00 AM - 11:30 AM VENUE :Lecture Hall 2, Dr.Remibai    Jeppiaar Auditorium'"
      ]
     },
     "execution_count": 8,
     "metadata": {},
     "output_type": "execute_result"
    }
   ],
   "source": [
    "string"
   ]
  },
  {
   "cell_type": "code",
   "execution_count": 9,
   "metadata": {},
   "outputs": [
    {
     "name": "stdout",
     "output_type": "stream",
     "text": [
      "2023-03-24 00:00:00\n"
     ]
    },
    {
     "name": "stderr",
     "output_type": "stream",
     "text": [
      "c:\\Users\\SRIRAM V\\AppData\\Local\\Programs\\Python\\Python39\\lib\\site-packages\\dateparser\\date_parser.py:35: PytzUsageWarning: The localize method is no longer necessary, as this time zone supports the fold attribute (PEP 495). For more details on migrating to a PEP 495-compliant implementation, see https://pytz-deprecation-shim.readthedocs.io/en/latest/migration.html\n",
      "  date_obj = stz.localize(date_obj)\n"
     ]
    }
   ],
   "source": [
    "regex = r\"\\b(January|February|March|April|May|June|July|Augest|September|October|November|December)\\s(0?[1-9]|[12]\\d|3[01]),\\s\\d{4}\\b\"\n",
    "# string = \"24 January,2023\"\n",
    "pattern = re.compile(regex, flags=re.IGNORECASE)\n",
    "matches = list(re.finditer(pattern, string))\n",
    "if len(matches)==0:\n",
    "    print(matches)\n",
    "else:\n",
    "    date = parse(matches[0].group(0))\n",
    "    print(date)"
   ]
  },
  {
   "cell_type": "code",
   "execution_count": 7,
   "metadata": {},
   "outputs": [
    {
     "data": {
      "text/plain": [
       "datetime.datetime"
      ]
     },
     "execution_count": 7,
     "metadata": {},
     "output_type": "execute_result"
    }
   ],
   "source": [
    "type(date)"
   ]
  },
  {
   "cell_type": "code",
   "execution_count": 39,
   "metadata": {},
   "outputs": [],
   "source": [
    "def func(name):\n",
    "    img = cv.imread(name)\n",
    "    d = pytesseract.image_to_data(img, output_type=Output.DICT)\n",
    "    lis = d['text']\n",
    "    string = \" \".join(lis)\n",
    "    regexes = [\n",
    "        r\"((19|20)?\\d{1,2}\\s?[-/]\\s?\\d{1,2}\\s?[-/]\\s?(19|20)?\\d{2})|\"\\\n",
    "        r\"((Jan|Feb|Mar|Apr|May|Jun|June|Jul|Aug|Sept|Sep|Oct|Nov|Dec)\"\\\n",
    "        r\"\\s?\\d{1,2}\\s?[,']?\\s?(19|20)?\\d{2})|(\\d{1,2}\\s?[-/]?\\s?\"\\\n",
    "        r\"(Jan|Feb|Mar|Apr|May|Jun|June|Jul|Aug|Sept|Sep|Oct|Nov|Dec)\"\\\n",
    "        r\"\\s?[',-/]?\\s?(19|20)?\\d{1,2})\",\n",
    "\n",
    "        r\"\\b(0?[1-9]|[12]\\d|3[01]) (Jan|Feb|Mar|Apr|May|Jun|Jul|Aug|Sep|Oct|Nov|Dec)\\s\\d{4}\\b\", # dd Mon yyyy\n",
    "        r\"\\b(0?[1-9]|[12]\\d|3[01]) (jan|feb|mar|apr|may|jun|jul|aug|sep|oct|nov|dec)\\s\\d{4}\\b\", # dd mon yyyy\n",
    "\n",
    "        r\"\\b(0?[1-9]|[12]\\d|3[01]) (Jan|Feb|Mar|Apr|May|Jun|Jul|Aug|Sep|Oct|Nov|Dec)\\s\\d{2}\\b\", # dd Mon yy\n",
    "        r\"\\b(0?[1-9]|[12]\\d|3[01]) (jan|feb|mar|apr|may|jun|jul|aug|sep|oct|nov|dec)\\s\\d{2}\\b\", # dd mon yy\n",
    "\n",
    "        r\"\\b(0?[1-9]|[12]\\d|3[01]) (January|February|March|April|May|June|July|Augest|September|October|November|December),\\d{2}\\b\", # dd Month,yy\n",
    "        r\"\\b(0?[1-9]|[12]\\d|3[01]) (january|february|march|april|may|june|july|augest|september|october|november|december),\\d{2}\\b\", # dd month,yy\n",
    "\n",
    "        r\"\\b(0?[1-9]|[12]\\d|3[01]) (January|February|March|April|May|June|July|Augest|September|October|November|December),\\d{4}\\b\", # dd Month,yyyy\n",
    "        r\"\\b(0?[1-9]|[12]\\d|3[01]) (january|february|march|april|may|june|july|augest|september|october|november|december),\\d{4}\\b\", # dd month,yyyy\n",
    "        \n",
    "        r\"\\b(January|February|March|April|May|June|July|Augest|September|October|November|December)\\s(0?[1-9]|[12]\\d|3[01]),\\s\\d{4}\\b\", # Month dd, yyyy\n",
    "        r\"\\b(january|february|march|april|may|june|july|augest|september|october|november|december)\\s(0?[1-9]|[12]\\d|3[01]),\\s\\d{4}\\b\", # month dd, yyyy\n",
    "    ]\n",
    "    matches = []\n",
    "    for regex in regexes:\n",
    "        # pattern = re.compile(regex, flags=re.IGNORECASE)\n",
    "        match = re.findall(regex, string)\n",
    "        matches.append(match)\n",
    "    return parse(matches[0][0][0])\n",
    "    # date = parse(matches[0])\n",
    "    # print(date)\n",
    "    # print(date)"
   ]
  },
  {
   "cell_type": "code",
   "execution_count": 41,
   "metadata": {},
   "outputs": [
    {
     "name": "stdout",
     "output_type": "stream",
     "text": [
      "test0.png\n"
     ]
    },
    {
     "name": "stderr",
     "output_type": "stream",
     "text": [
      "c:\\Users\\SRIRAM V\\AppData\\Local\\Programs\\Python\\Python39\\lib\\site-packages\\dateparser\\date_parser.py:35: PytzUsageWarning: The localize method is no longer necessary, as this time zone supports the fold attribute (PEP 495). For more details on migrating to a PEP 495-compliant implementation, see https://pytz-deprecation-shim.readthedocs.io/en/latest/migration.html\n",
      "  date_obj = stz.localize(date_obj)\n"
     ]
    },
    {
     "name": "stdout",
     "output_type": "stream",
     "text": [
      "2023-03-23 00:00:00\n",
      "test1.png\n",
      "2003-03-25 00:00:00\n",
      "test2.png\n",
      "2002-12-12 00:00:00\n",
      "test3.jpg\n",
      "2023-03-28 00:00:00\n",
      "test4.jpg\n"
     ]
    },
    {
     "ename": "IndexError",
     "evalue": "list index out of range",
     "output_type": "error",
     "traceback": [
      "\u001b[1;31m---------------------------------------------------------------------------\u001b[0m",
      "\u001b[1;31mIndexError\u001b[0m                                Traceback (most recent call last)",
      "\u001b[1;32mC:\\Users\\SRIRAM~1\\AppData\\Local\\Temp/ipykernel_10868/411358831.py\u001b[0m in \u001b[0;36m<module>\u001b[1;34m\u001b[0m\n\u001b[0;32m      5\u001b[0m \u001b[1;32mfor\u001b[0m \u001b[0mimg\u001b[0m \u001b[1;32min\u001b[0m \u001b[0mimgs\u001b[0m\u001b[1;33m:\u001b[0m\u001b[1;33m\u001b[0m\u001b[1;33m\u001b[0m\u001b[0m\n\u001b[0;32m      6\u001b[0m     \u001b[0mprint\u001b[0m\u001b[1;33m(\u001b[0m\u001b[0mimg\u001b[0m\u001b[1;33m)\u001b[0m\u001b[1;33m\u001b[0m\u001b[1;33m\u001b[0m\u001b[0m\n\u001b[1;32m----> 7\u001b[1;33m     \u001b[0mprint\u001b[0m\u001b[1;33m(\u001b[0m\u001b[0mfunc\u001b[0m\u001b[1;33m(\u001b[0m\u001b[0mimg\u001b[0m\u001b[1;33m)\u001b[0m\u001b[1;33m)\u001b[0m\u001b[1;33m\u001b[0m\u001b[1;33m\u001b[0m\u001b[0m\n\u001b[0m",
      "\u001b[1;32mC:\\Users\\SRIRAM~1\\AppData\\Local\\Temp/ipykernel_10868/1916619185.py\u001b[0m in \u001b[0;36mfunc\u001b[1;34m(name)\u001b[0m\n\u001b[0;32m     31\u001b[0m         \u001b[0mmatch\u001b[0m \u001b[1;33m=\u001b[0m \u001b[0mre\u001b[0m\u001b[1;33m.\u001b[0m\u001b[0mfindall\u001b[0m\u001b[1;33m(\u001b[0m\u001b[0mregex\u001b[0m\u001b[1;33m,\u001b[0m \u001b[0mstring\u001b[0m\u001b[1;33m)\u001b[0m\u001b[1;33m\u001b[0m\u001b[1;33m\u001b[0m\u001b[0m\n\u001b[0;32m     32\u001b[0m         \u001b[0mmatches\u001b[0m\u001b[1;33m.\u001b[0m\u001b[0mappend\u001b[0m\u001b[1;33m(\u001b[0m\u001b[0mmatch\u001b[0m\u001b[1;33m)\u001b[0m\u001b[1;33m\u001b[0m\u001b[1;33m\u001b[0m\u001b[0m\n\u001b[1;32m---> 33\u001b[1;33m     \u001b[1;32mreturn\u001b[0m \u001b[0mparse\u001b[0m\u001b[1;33m(\u001b[0m\u001b[0mmatches\u001b[0m\u001b[1;33m[\u001b[0m\u001b[1;36m0\u001b[0m\u001b[1;33m]\u001b[0m\u001b[1;33m[\u001b[0m\u001b[1;36m0\u001b[0m\u001b[1;33m]\u001b[0m\u001b[1;33m[\u001b[0m\u001b[1;36m0\u001b[0m\u001b[1;33m]\u001b[0m\u001b[1;33m)\u001b[0m\u001b[1;33m\u001b[0m\u001b[1;33m\u001b[0m\u001b[0m\n\u001b[0m\u001b[0;32m     34\u001b[0m     \u001b[1;31m# date = parse(matches[0])\u001b[0m\u001b[1;33m\u001b[0m\u001b[1;33m\u001b[0m\u001b[1;33m\u001b[0m\u001b[0m\n\u001b[0;32m     35\u001b[0m     \u001b[1;31m# print(date)\u001b[0m\u001b[1;33m\u001b[0m\u001b[1;33m\u001b[0m\u001b[1;33m\u001b[0m\u001b[0m\n",
      "\u001b[1;31mIndexError\u001b[0m: list index out of range"
     ]
    }
   ],
   "source": [
    "imgs = [\n",
    "    \"test0.png\", \"test1.png\", \"test2.png\", \"test3.jpg\", \"test4.jpg\", \"test5.jpg\", \"test6.jpg\", \"test7.jpg\", \"test8.jpg\"\n",
    "]\n",
    "\n",
    "for img in imgs:\n",
    "    print(img)\n",
    "    print(func(img))"
   ]
  },
  {
   "cell_type": "code",
   "execution_count": 21,
   "metadata": {},
   "outputs": [
    {
     "name": "stdout",
     "output_type": "stream",
     "text": [
      "[[('23-03-2023', '', '20', '', '', '', '', '', '')], [('25-03-2003', '', '20', '', '', '', '', '', '')], [('12-12-2002', '', '20', '', '', '', '', '', '')], [('28-03-23', '', '', '', '', '', '', '', '')], [('24', 'March')], [('March', '24')]]\n"
     ]
    }
   ],
   "source": [
    "ans = []\n",
    "for i in lst:\n",
    "    for j in i:\n",
    "        if len(j) > 0:\n",
    "            ans.append(j)\n",
    "print(ans)"
   ]
  },
  {
   "cell_type": "code",
   "execution_count": null,
   "metadata": {},
   "outputs": [],
   "source": []
  }
 ],
 "metadata": {
  "kernelspec": {
   "display_name": "Python 3",
   "language": "python",
   "name": "python3"
  },
  "language_info": {
   "codemirror_mode": {
    "name": "ipython",
    "version": 3
   },
   "file_extension": ".py",
   "mimetype": "text/x-python",
   "name": "python",
   "nbconvert_exporter": "python",
   "pygments_lexer": "ipython3",
   "version": "3.9.0"
  },
  "orig_nbformat": 4
 },
 "nbformat": 4,
 "nbformat_minor": 2
}
